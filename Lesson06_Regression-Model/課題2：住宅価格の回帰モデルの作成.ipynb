{
  "cells": [
    {
      "cell_type": "markdown",
      "metadata": {
        "id": "b1YULAq-b46_"
      },
      "source": [
        "# 課題2：住宅価格の回帰モデルの作成\n",
        "\n",
        "本課題では課題1と同じデータを用いてデータ分析の流れを確認します。各セルに入っているコメントの下に、実行するコードを記入してください。わからない場合は、ここまでのレッスン内容や各種ライブラリの公式ドキュメントを参照しましょう。"
      ]
    },
    {
      "cell_type": "markdown",
      "metadata": {
        "id": "xxZo7AnkcH76"
      },
      "source": [
        "## 1. 必要なライブラリの読み込み"
      ]
    },
    {
      "cell_type": "code",
      "execution_count": 1,
      "metadata": {
        "id": "7VA-1KsTbwGQ"
      },
      "outputs": [],
      "source": [
        "# 必要なライブラリの読み込み（変更しないでください）\n",
        "import matplotlib.pyplot as plt\n",
        "import numpy as np\n",
        "import pandas as pd\n",
        "\n",
        "from sklearn.linear_model import LinearRegression\n",
        "from sklearn.tree import DecisionTreeRegressor\n",
        "from sklearn.ensemble import RandomForestRegressor\n",
        "\n",
        "from sklearn.model_selection import train_test_split\n",
        "from sklearn.metrics import mean_squared_error"
      ]
    },
    {
      "cell_type": "markdown",
      "metadata": {
        "id": "iBBe41O_cUPn"
      },
      "source": [
        "## 2. データの読み込み\n",
        "\n",
        "CSVファイル *iowa_ames_housing_price.csv* を読み込み、内容を確認します。"
      ]
    },
    {
      "cell_type": "code",
      "execution_count": null,
      "metadata": {
        "id": "YNWdzlmtcocO"
      },
      "outputs": [],
      "source": [
        "# データを変数datasetに読み込む\n",
        "dataset = pd.read_csv('./iowa_ames_housing_price.csv')"
      ]
    },
    {
      "cell_type": "code",
      "execution_count": 3,
      "metadata": {
        "id": "zUBOA0cucs4W"
      },
      "outputs": [
        {
          "data": {
            "text/html": [
              "<div>\n",
              "<style scoped>\n",
              "    .dataframe tbody tr th:only-of-type {\n",
              "        vertical-align: middle;\n",
              "    }\n",
              "\n",
              "    .dataframe tbody tr th {\n",
              "        vertical-align: top;\n",
              "    }\n",
              "\n",
              "    .dataframe thead th {\n",
              "        text-align: right;\n",
              "    }\n",
              "</style>\n",
              "<table border=\"1\" class=\"dataframe\">\n",
              "  <thead>\n",
              "    <tr style=\"text-align: right;\">\n",
              "      <th></th>\n",
              "      <th>Order</th>\n",
              "      <th>area</th>\n",
              "      <th>price</th>\n",
              "      <th>MSSubClass</th>\n",
              "      <th>MSZoning</th>\n",
              "      <th>LotFrontage</th>\n",
              "      <th>LotArea</th>\n",
              "      <th>Street</th>\n",
              "      <th>Alley</th>\n",
              "      <th>LotShape</th>\n",
              "      <th>...</th>\n",
              "      <th>ScreenPorch</th>\n",
              "      <th>PoolArea</th>\n",
              "      <th>PoolQC</th>\n",
              "      <th>Fence</th>\n",
              "      <th>MiscFeature</th>\n",
              "      <th>MiscVal</th>\n",
              "      <th>MoSold</th>\n",
              "      <th>YrSold</th>\n",
              "      <th>SaleType</th>\n",
              "      <th>SaleCondition</th>\n",
              "    </tr>\n",
              "  </thead>\n",
              "  <tbody>\n",
              "    <tr>\n",
              "      <th>0</th>\n",
              "      <td>1</td>\n",
              "      <td>1710</td>\n",
              "      <td>208500</td>\n",
              "      <td>60</td>\n",
              "      <td>RL</td>\n",
              "      <td>65.0</td>\n",
              "      <td>8450</td>\n",
              "      <td>Pave</td>\n",
              "      <td>NaN</td>\n",
              "      <td>Reg</td>\n",
              "      <td>...</td>\n",
              "      <td>0</td>\n",
              "      <td>0</td>\n",
              "      <td>NaN</td>\n",
              "      <td>NaN</td>\n",
              "      <td>NaN</td>\n",
              "      <td>0</td>\n",
              "      <td>2</td>\n",
              "      <td>2008</td>\n",
              "      <td>WD</td>\n",
              "      <td>Normal</td>\n",
              "    </tr>\n",
              "    <tr>\n",
              "      <th>1</th>\n",
              "      <td>2</td>\n",
              "      <td>1262</td>\n",
              "      <td>181500</td>\n",
              "      <td>20</td>\n",
              "      <td>RL</td>\n",
              "      <td>80.0</td>\n",
              "      <td>9600</td>\n",
              "      <td>Pave</td>\n",
              "      <td>NaN</td>\n",
              "      <td>Reg</td>\n",
              "      <td>...</td>\n",
              "      <td>0</td>\n",
              "      <td>0</td>\n",
              "      <td>NaN</td>\n",
              "      <td>NaN</td>\n",
              "      <td>NaN</td>\n",
              "      <td>0</td>\n",
              "      <td>5</td>\n",
              "      <td>2007</td>\n",
              "      <td>WD</td>\n",
              "      <td>Normal</td>\n",
              "    </tr>\n",
              "    <tr>\n",
              "      <th>2</th>\n",
              "      <td>3</td>\n",
              "      <td>1786</td>\n",
              "      <td>223500</td>\n",
              "      <td>60</td>\n",
              "      <td>RL</td>\n",
              "      <td>68.0</td>\n",
              "      <td>11250</td>\n",
              "      <td>Pave</td>\n",
              "      <td>NaN</td>\n",
              "      <td>IR1</td>\n",
              "      <td>...</td>\n",
              "      <td>0</td>\n",
              "      <td>0</td>\n",
              "      <td>NaN</td>\n",
              "      <td>NaN</td>\n",
              "      <td>NaN</td>\n",
              "      <td>0</td>\n",
              "      <td>9</td>\n",
              "      <td>2008</td>\n",
              "      <td>WD</td>\n",
              "      <td>Normal</td>\n",
              "    </tr>\n",
              "    <tr>\n",
              "      <th>3</th>\n",
              "      <td>4</td>\n",
              "      <td>1717</td>\n",
              "      <td>140000</td>\n",
              "      <td>70</td>\n",
              "      <td>RL</td>\n",
              "      <td>60.0</td>\n",
              "      <td>9550</td>\n",
              "      <td>Pave</td>\n",
              "      <td>NaN</td>\n",
              "      <td>IR1</td>\n",
              "      <td>...</td>\n",
              "      <td>0</td>\n",
              "      <td>0</td>\n",
              "      <td>NaN</td>\n",
              "      <td>NaN</td>\n",
              "      <td>NaN</td>\n",
              "      <td>0</td>\n",
              "      <td>2</td>\n",
              "      <td>2006</td>\n",
              "      <td>WD</td>\n",
              "      <td>Abnorml</td>\n",
              "    </tr>\n",
              "    <tr>\n",
              "      <th>4</th>\n",
              "      <td>5</td>\n",
              "      <td>2198</td>\n",
              "      <td>250000</td>\n",
              "      <td>60</td>\n",
              "      <td>RL</td>\n",
              "      <td>84.0</td>\n",
              "      <td>14260</td>\n",
              "      <td>Pave</td>\n",
              "      <td>NaN</td>\n",
              "      <td>IR1</td>\n",
              "      <td>...</td>\n",
              "      <td>0</td>\n",
              "      <td>0</td>\n",
              "      <td>NaN</td>\n",
              "      <td>NaN</td>\n",
              "      <td>NaN</td>\n",
              "      <td>0</td>\n",
              "      <td>12</td>\n",
              "      <td>2008</td>\n",
              "      <td>WD</td>\n",
              "      <td>Normal</td>\n",
              "    </tr>\n",
              "  </tbody>\n",
              "</table>\n",
              "<p>5 rows × 81 columns</p>\n",
              "</div>"
            ],
            "text/plain": [
              "   Order  area   price  MSSubClass MSZoning  LotFrontage  LotArea Street  \\\n",
              "0      1  1710  208500          60       RL         65.0     8450   Pave   \n",
              "1      2  1262  181500          20       RL         80.0     9600   Pave   \n",
              "2      3  1786  223500          60       RL         68.0    11250   Pave   \n",
              "3      4  1717  140000          70       RL         60.0     9550   Pave   \n",
              "4      5  2198  250000          60       RL         84.0    14260   Pave   \n",
              "\n",
              "  Alley LotShape  ... ScreenPorch PoolArea PoolQC Fence MiscFeature MiscVal  \\\n",
              "0   NaN      Reg  ...           0        0    NaN   NaN         NaN       0   \n",
              "1   NaN      Reg  ...           0        0    NaN   NaN         NaN       0   \n",
              "2   NaN      IR1  ...           0        0    NaN   NaN         NaN       0   \n",
              "3   NaN      IR1  ...           0        0    NaN   NaN         NaN       0   \n",
              "4   NaN      IR1  ...           0        0    NaN   NaN         NaN       0   \n",
              "\n",
              "  MoSold YrSold SaleType  SaleCondition  \n",
              "0      2   2008       WD         Normal  \n",
              "1      5   2007       WD         Normal  \n",
              "2      9   2008       WD         Normal  \n",
              "3      2   2006       WD        Abnorml  \n",
              "4     12   2008       WD         Normal  \n",
              "\n",
              "[5 rows x 81 columns]"
            ]
          },
          "execution_count": 3,
          "metadata": {},
          "output_type": "execute_result"
        }
      ],
      "source": [
        "# データの最初の5行を表示\n",
        "dataset.head()"
      ]
    },
    {
      "cell_type": "markdown",
      "metadata": {
        "id": "Yw_tTBtJcz2Y"
      },
      "source": [
        "## 3. 目的変数と説明変数の選択\n",
        "\n",
        "ここでは、以下の列を使用します。\n",
        "\n",
        "- 目的変数： `price`\n",
        "- 説明変数： `OverallQual`, `area`, `X2ndFlrSF`, `BsmtFinSF1`,  `OverallCond`"
      ]
    },
    {
      "cell_type": "code",
      "execution_count": 4,
      "metadata": {
        "id": "hiMVKi3wcumE"
      },
      "outputs": [],
      "source": [
        "# 目的変数の列名（変更しないでください）\n",
        "target_col = 'price'\n",
        "\n",
        "# 説明変数の列名（変更しないでください）\n",
        "feature_cols = ['OverallQual', 'area', 'X2ndFlrSF', 'BsmtFinSF1', 'OverallCond']"
      ]
    },
    {
      "cell_type": "code",
      "execution_count": 11,
      "metadata": {
        "id": "iPFgNgq6d7M8"
      },
      "outputs": [
        {
          "name": "stdout",
          "output_type": "stream",
          "text": [
            "Y= [208500 181500 223500 ... 266500 142125 147500]\n",
            "Y.shape= (1460,)\n",
            "X= [[   7 1710  854  706    5]\n",
            " [   6 1262    0  978    8]\n",
            " [   7 1786  866  486    5]\n",
            " ...\n",
            " [   7 2340 1152  275    9]\n",
            " [   5 1078    0   49    6]\n",
            " [   5 1256    0  830    6]]\n",
            "X.shape= (1460, 5)\n"
          ]
        }
      ],
      "source": [
        "# target_col と feature_cols を使用して dataset より目的変数と説明変数に該当する列を取得し、\n",
        "# numpy 配列に変換したものを変数 Y と X に格納する\n",
        "\n",
        "# Y:目的変数に該当する列\n",
        "Y = np.array(dataset[target_col])\n",
        "print(\"Y=\", Y)\n",
        "print(f\"Y.shape=\" , Y.shape)\n",
        "\n",
        "# X:説明変数に該当する列\n",
        "X = np.array(dataset[feature_cols])\n",
        "print(\"X=\", X)\n",
        "print(\"X.shape=\" , X.shape)"
      ]
    },
    {
      "cell_type": "markdown",
      "metadata": {
        "id": "kFb9kNkyeVYX"
      },
      "source": [
        "## 4. データの分割\n",
        "\n",
        "この課題では、ホールドアウト法でデータを分割します。"
      ]
    },
    {
      "cell_type": "code",
      "execution_count": 39,
      "metadata": {
        "id": "26cMzaEreWCL"
      },
      "outputs": [
        {
          "name": "stdout",
          "output_type": "stream",
          "text": [
            "Y_test= [200624 133000 110000 192000  88000  85000 282922 141000 745000 148800\n",
            " 208900 136905 225000 123000 119200 145000 190000 123600 149350 155000\n",
            " 166000 144500 110000 174000 185000 168000 177500  84500 320000 118500\n",
            " 110000 213000 156000 250000 372500 175000 277500 112500 263000 325000\n",
            " 243000 130000 164990 280000 403000 119000 125000 128200 172500  84900\n",
            " 412500 156000 167900 100000 275000 123000 132000 239900 139000 115000\n",
            " 137500 135000 134450 180500 193500 156500 132000 224500 139000 225000\n",
            " 188500 118000  82000 392000 112000 248900 134500  79500 320000 158000\n",
            " 140000 136500 107500 145000 200500 185000 105000 202665 186000 136000\n",
            " 200500 190000 187500 200000 172500 157000 213000 185000 124500 162900\n",
            " 260000 198500 120000 159500 105900 260000 143000 106500 178900 127000\n",
            "  90350 118500 190000 119900 183900 155000 386250 133000 193500 270000\n",
            " 141000 146000 128500 176000 214000 222000 415298 187750 199900 180000\n",
            " 206300 194000 142953 182900 116050 213250 139500 179000 107900 175900\n",
            " 158500 145000 217000 150500 108959 165600 201000 145500 319900 215000\n",
            " 180500 367294 239000 145900 161000 250000  89471 230000 147000 163900\n",
            "  97000 142000 197000 129000 232000 115000 175000 265000 207000 181000\n",
            " 176000 171000 196000 176000 113000 139000 135000 240000 112000 134000\n",
            " 316600 170000 116000 306000  82500 175000 106000 194000 194201 155900\n",
            " 138000 177000 214000 148000 127000 142500  80000 145000 171000 122500\n",
            " 139000 189000 120500 124000 160000 200000 160000 313000 275000  67000\n",
            " 159000 251000  92900 109500 385000 129000  82500 301000 249700  81000\n",
            " 187500 110000 117000 128500 213490 284000 230500 190000 135000 152000\n",
            "  87500 155000 115000 144000 248000 132500 136000 117000  82000 157500\n",
            " 110000 181000 192500 223500 181500 170000 187500 185900 160000 192000\n",
            " 181900 266000  99900 438780 229456 216837 110500 175900 538000 160000\n",
            " 172500 108000 131500 106250 385000 370878 345000  68500 250000 245350\n",
            " 125000 234000 145000 181000 104000 233000 164000 219500 195000 108000\n",
            " 149900 315000 177500 140000 193879 137900 118000 324000 555000 136000\n",
            "  82500 101000 314813 109500 163500 271000 205000 185000 160000 155000\n",
            "  91000 131000 165400 194700 155000 140000 147000 194000 179540 173000\n",
            " 109500 173733 129900 119000 125500 149300 305000 102000 178740 129500\n",
            "  79900 278000 118400 197000 140000 226000 132500 315000 224000 132500\n",
            " 119500 215000 210000 200141 185000 149900 129000 184100 135000 128000\n",
            " 374000 164000 157000 215000 165000 144000 125500  98300  91300 135960\n",
            " 226700 333168 114500  97000 181000 465000 290000 175000 235000 277000\n",
            " 325000 178000 235000 239000  85000 107500 160000 145000 192140 181000\n",
            " 380000  66500 124500 124000 144000  52500 217000 275000 127000 262500\n",
            " 162000 103000 137500 127500 127000  91000 145000 186500 221500 253293\n",
            " 108480 127000 237500  86000 141000 176000 178400 173900 157000 193000\n",
            " 335000 201000 146500  86000 148000 280000 112000 303477 250000 244600\n",
            " 126000 130500 241000 118500 115000 129900 202500 118000 335000 125000\n",
            " 255900 342643 109008 148500 132500 110000 244000 115000 194500 129500\n",
            " 167500 227875 169900 241500 127500 350000 227000 611657]\n",
            "Y_test.shape= (438,)\n",
            "X_test= [[   6 2515    0 1219    3]\n",
            " [   6 1578  620  403    7]\n",
            " [   5 1203  224  185    4]\n",
            " ...\n",
            " [   8 2113    0 1696    6]\n",
            " [   7 1573    0  788    5]\n",
            " [   9 2364    0 2188    5]]\n",
            "X_test.shape= (438, 5)\n",
            "Y_test最小値 52500\n",
            "Y_test最大値 745000\n"
          ]
        }
      ],
      "source": [
        "# X と Y を 機械学習用データとテストデータに7:3で分ける(X_train, X_test, Y_train, Y_test)\n",
        "X_train, X_test, Y_train, Y_test = train_test_split(X, Y, test_size=0.3, random_state=0)\n",
        "print(\"Y_test=\", Y_test)\n",
        "print(\"Y_test.shape=\", Y_test.shape)\n",
        "print(\"X_test=\", X_test)\n",
        "print(\"X_test.shape=\", X_test.shape)\n",
        "\n",
        "# 最小値\n",
        "print(\"Y_test最小値\", np.min(Y_test))\n",
        "# 最大値\n",
        "print(\"Y_test最大値\", np.max(Y_test))"
      ]
    },
    {
      "cell_type": "code",
      "execution_count": 43,
      "metadata": {
        "id": "-HKMiuIXejNE"
      },
      "outputs": [
        {
          "name": "stdout",
          "output_type": "stream",
          "text": [
            "Y_train最小値 52000\n",
            "Y_train最大値 485000\n",
            "Y_train= [135000  79000  84000 127000 216000 224000 175000 145000  88000 230000\n",
            " 235128 176000 180000  81000 167000 138500 238000 135000 107000 136500\n",
            " 131000 266000 132000 100000 266500 140000 167900 175500 179900 204000\n",
            " 262000 109000 131400 149900 145000 290000 134432 122000 426000 121500\n",
            " 230000 155000 191000 274900 293077 240000 274000 140000 437154 119500\n",
            " 302000 136900 125000 271900 139000 311872 185000 147000 193000 225000\n",
            " 109900 214500 155000 157500 209500 126000 159950 170000 143000 115000\n",
            " 222000 177500 181134 341000 143500 159000 122500 128900 232600 348000\n",
            " 190000 253000 180000 183500 219500 172785 194500 271000  85500 169500\n",
            " 103200 309000 206900 197900 236500  78000  79000 138800 139400 170000\n",
            " 159000 265900 215000 130000 392500 132000 149000 197500 205000 175000\n",
            " 109000 195000 281213 170000 127000 157900 130500  98600 137500 236000\n",
            " 167000 148000 214000 359100 215000 212900 121600 141000 145250 144000\n",
            " 230000 260000 135000 190000 312500 217500 169000 192000 153900 108000\n",
            "  52000 485000 196000 446261 103600 375000 133900 165150 117000 191000\n",
            " 135500 139000 252000 169500 110000 240000 200000 124000 177000 169990\n",
            " 222500 154000 143000  84500  72500 132000 184900 263435 151000 250580\n",
            " 424870 289000 237000 173000 235000 168000 176000 113000 178000 137000\n",
            " 119000 168500 123000 140000 223500 155000 208500 191000 142600 165000\n",
            " 200000 138887 195000 402000 160000 141000 215000 110000 221000 142500\n",
            " 140200 232000 142500  61000 177000  60000 153000 149000  89000 200000\n",
            " 114504 100000  95000 160000 163000 143750 113000 174000  84500 128000\n",
            " 257000 135000 127500 381000 174000 226000 175500  87000 185000 284000\n",
            " 325000 193000 124000 172000 227000 143000 264561 139000  90000 139000\n",
            " 244000 257500 175000 188000 223000]\n",
            "Y_train.shape= (245,)\n",
            "Y_valid最小値 35311\n",
            "Y_valin最大値 440000\n",
            "Y_valid= [120000 143000 157000 203000 219500 285000 172500 128000 100000 128950\n",
            " 325624 230000  85000 208300  96500 239686 135900 163000 110000 120500\n",
            " 181000 107000 110000 139000 241500 150000 336000  97000 252678 220000\n",
            " 165000 118000 228000 142000 260000 138000  73000 268000  82000 126500\n",
            " 152000 135000 213500 230000 245500 134900 112500 114500 147000 274725\n",
            " 186700 134000 239500 150000 315750 106500  35311 235000 150000 139600\n",
            " 208900 122900 176000  75000 234000 116000 280000 274970 440000 118000\n",
            " 255500 161000 149700 173000  76000  80500 144000 144900 113000 184000\n",
            " 174000 186500 154900 170000 120000 180000 207500 242000 236500 162000\n",
            " 339750 174000 227000 140000 112000 222000 162000 179500 185500 229000\n",
            " 109900 111250 315000 143250 118858]\n",
            "Y_valid.shape= (105,)\n",
            "--------------------ここから　X　-------------------------------------------------------------------\n",
            "X_train= [[   5 1271  551    0    5]\n",
            " [   6 1096  524    0    5]\n",
            " [   4  845    0    0    3]\n",
            " ...\n",
            " [   6 1647  694    0    5]\n",
            " [   7 1724  844    0    5]\n",
            " [   6 1844    0 1110    5]]\n",
            "X_train.shape= (245, 5)\n",
            "X_valid= [[   5 1130    0  821    6]\n",
            " [   6 1846  678  196    6]\n",
            " [   7 1601    0  704    5]\n",
            " [   7 1504    0  690    5]\n",
            " [   7 2034  977  739    5]\n",
            " [   9 1668    0 1059    5]\n",
            " [   6 1471  729  381    5]\n",
            " [   4 1324  567  672    6]\n",
            " [   4  816    0  690    6]\n",
            " [   4 1225    0  569    5]\n",
            " [   8 2161  551 1288    5]\n",
            " [   7 1840  896  666    5]\n",
            " [   5 1112  576  129    3]\n",
            " [   6 1218    0   27    5]\n",
            " [   5  789    0    0    5]\n",
            " [   7 2149  631 1351    5]\n",
            " [   5 1716  780  210    6]\n",
            " [   6 1912  691    0    7]\n",
            " [   6  813    0    0    8]\n",
            " [   4  864    0  375    6]\n",
            " [   7 1504    0   16    5]\n",
            " [   6 1117    0  422    5]\n",
            " [   5  892    0  340    5]\n",
            " [   5 1652  686  686    6]\n",
            " [   7 1872    0  929    5]\n",
            " [   4 1620    0 1116    4]\n",
            " [   8 2612 1336  854    5]\n",
            " [   4 1344  546    0    6]\n",
            " [   7 1852  920  822    5]\n",
            " [   6 1991  895  297    7]\n",
            " [   5 1383    0 1064    5]\n",
            " [   5  698    0    0    9]\n",
            " [   7 2097 1017   50    5]\n",
            " [   6 1252    0    0    6]\n",
            " [   7 2353 1200  692    7]\n",
            " [   5  816    0  816    8]\n",
            " [   5  764    0    0    5]\n",
            " [   7 2295 1129  728    5]\n",
            " [   4  841    0    0    4]\n",
            " [   5 1065    0    0    5]\n",
            " [   5 1620  840  493    5]\n",
            " [   5  980    0  560    6]\n",
            " [   8 1338    0  616    5]\n",
            " [   7 1314    0  904    5]\n",
            " [   8 1288    0  786    5]\n",
            " [   6 1176  390    0    9]\n",
            " [   5  928    0  308    6]\n",
            " [   6 1176    0    0    6]\n",
            " [   8 1795    0    0    5]\n",
            " [   7 2021 1134    0    5]\n",
            " [   5 1572    0 1159    4]\n",
            " [   5 1142    0  874    5]\n",
            " [   8 2020  878  584    5]\n",
            " [   4 1440    0 1440    3]\n",
            " [   7 2398 1015  719    5]\n",
            " [   5  882    0    0    7]\n",
            " [   2  480    0   50    3]\n",
            " [   7 2263  795  795    7]\n",
            " [   5 1053    0  567    7]\n",
            " [   3 1733    0    0    5]\n",
            " [   6 1493    0  994    5]\n",
            " [   5  924  252    0    7]\n",
            " [   4 1132    0 1024    5]\n",
            " [   4 1092  546    0    5]\n",
            " [   7 1557    0    0    5]\n",
            " [   5 1250  564    0    7]\n",
            " [   7 1533    0  655    5]\n",
            " [   6 2201  626    0    7]\n",
            " [   8 1976    0 1350    5]\n",
            " [   4 1440    0  133    4]\n",
            " [   8 1717    0    0    5]\n",
            " [   7 1378  689  141    9]\n",
            " [   6 1236    0  600    7]\n",
            " [   6 1671  712  786    5]\n",
            " [   6  784    0    0    3]\n",
            " [   4  912  240    0    5]\n",
            " [   7 1690  875    0    6]\n",
            " [   5 1086    0  320    7]\n",
            " [   6 1218  546  356    5]\n",
            " [   6 1651    0 1398    5]\n",
            " [   8 1441  677    0    5]\n",
            " [   6 1792  830    0    5]\n",
            " [   5 1343  523    0    6]\n",
            " [   7 1173    0  885    6]\n",
            " [   6  864    0  414    6]\n",
            " [   7 1668  828    0    5]\n",
            " [   7 1314    0  904    5]\n",
            " [   7 2069    0  425    7]\n",
            " [   8 1616    0 1180    5]\n",
            " [   6 1204    0  866    5]\n",
            " [   8 2078 1028  789    5]\n",
            " [   7 1555    0    0    5]\n",
            " [   8 1665  855  643    6]\n",
            " [   6 1072    0  547    5]\n",
            " [   5 1302  672    0    5]\n",
            " [   7 2236 1243    0    5]\n",
            " [   5 1287    0   72    7]\n",
            " [   5 2192  720  378    8]\n",
            " [   7 1414    0   24    5]\n",
            " [   7 2183  806 1002    5]\n",
            " [   4 1040    0    0    5]\n",
            " [   4  864    0  600    5]\n",
            " [   8 2630 1160  986    5]\n",
            " [   6  981    0  282    5]\n",
            " [   5 1535    0    0    5]]\n",
            "X_valid.shape= (105, 5)\n"
          ]
        }
      ],
      "source": [
        "# 機械学習用データを、学習データと検証データに7:3で分ける(X_train, X_valid, Y_train, Y_valid)\n",
        "X_train, X_valid, Y_train, Y_valid = train_test_split(X_train, Y_train, test_size=0.3, random_state=0)\n",
        "# Y_train\n",
        "## 最小値\n",
        "print(\"Y_train最小値\", np.min(Y_train))\n",
        "## 最大値\n",
        "print(\"Y_train最大値\", np.max(Y_train))\n",
        "print(\"Y_train=\", Y_train)\n",
        "print(\"Y_train.shape=\", Y_train.shape)\n",
        "\n",
        "# Y_valid\n",
        "## 最小値\n",
        "print(\"Y_valid最小値\", np.min(Y_valid))\n",
        "## 最大値\n",
        "print(\"Y_valin最大値\", np.max(Y_valid))\n",
        "print(\"Y_valid=\", Y_valid)\n",
        "print(\"Y_valid.shape=\", Y_valid.shape)\n",
        "\n",
        "print(\"--------------------ここから　X　-------------------------------------------------------------------\")\n",
        "print(\"X_train=\", X_train)\n",
        "print(\"X_train.shape=\", X_train.shape)\n",
        "print(\"X_valid=\", X_valid)\n",
        "print(\"X_valid.shape=\", X_valid.shape)"
      ]
    },
    {
      "cell_type": "markdown",
      "metadata": {
        "id": "f4HGf4VTen9x"
      },
      "source": [
        "## 5. モデルの作成から評価まで\n",
        "\n",
        "線形回帰モデルと、回帰木、ランダムフォレストの3つのモデルを作成して比較します。それぞれのモデルで以下を行います。\n",
        "- モデルの作成\n",
        "- 学習データによる学習\n",
        "- 検証データによる予測\n",
        "- MSEの算出"
      ]
    },
    {
      "cell_type": "code",
      "execution_count": 17,
      "metadata": {
        "id": "i0-F4hTpeqL5"
      },
      "outputs": [
        {
          "name": "stdout",
          "output_type": "stream",
          "text": [
            "[148500 135000 125000 129000 140000]\n",
            "[130384.51891686 160157.30599718 120965.98169247 106234.62154535\n",
            " 181862.43025951]\n",
            "MSE(線形回帰): 1025944027.7910818\n"
          ]
        }
      ],
      "source": [
        "# 線形回帰モデルを作成し、学習・予測を実施して、MSEを算出する\n",
        "linear_model = LinearRegression()\n",
        "linear_model.fit(X_train, Y_train) # 学習\n",
        "Y_pred = linear_model.predict(X_valid) # 予測\n",
        "\n",
        "# 正解（検証データの目的変数）と予測値との比較\n",
        "print(Y_valid[:5])\n",
        "print(Y_pred[:5])\n",
        "\n",
        "linear_model_mse = mean_squared_error(Y_valid, Y_pred) # MSE算出\n",
        "print('MSE(線形回帰):', linear_model_mse)"
      ]
    },
    {
      "cell_type": "code",
      "execution_count": 18,
      "metadata": {
        "id": "-6aw688kfvbF"
      },
      "outputs": [
        {
          "name": "stdout",
          "output_type": "stream",
          "text": [
            "[148500 135000 125000 129000 140000]\n",
            "[120000. 172000. 123000. 135500. 159000.]\n",
            "MSE(回帰木): 1381288719.2139535\n"
          ]
        }
      ],
      "source": [
        "# 回帰木のモデルを作成し、学習・予測を実施して、MSEを算出する\n",
        "decisiontree_model = DecisionTreeRegressor(random_state=0)\n",
        "decisiontree_model.fit(X_train, Y_train) # 学習\n",
        "Y_pred = decisiontree_model.predict(X_valid) # 予測\n",
        "\n",
        "# 正解（検証データの目的変数）と予測値との比較\n",
        "print(Y_valid[:5])\n",
        "print(Y_pred[:5])\n",
        "\n",
        "decisiontree_model_mse = mean_squared_error(Y_valid, Y_pred) # MSE算出\n",
        "print('MSE(回帰木):', decisiontree_model_mse)"
      ]
    },
    {
      "cell_type": "code",
      "execution_count": 47,
      "metadata": {
        "id": "UNRsa17wfz2Z"
      },
      "outputs": [
        {
          "name": "stdout",
          "output_type": "stream",
          "text": [
            "[120000 143000 157000 203000 219500]\n",
            "[156459.5  178665.54 217786.   206071.6  224279.  ]\n",
            "MSE(ランダムフォレスト): 939817264.3267125\n"
          ]
        }
      ],
      "source": [
        "# ランダムフォレストのモデルを作成し、学習・予測を実施して、MSEを算出する\n",
        "randomforest_model = RandomForestRegressor(random_state=0)\n",
        "randomforest_model.fit(X_train, Y_train) # 学習\n",
        "Y_pred = randomforest_model.predict(X_valid) # 予測\n",
        "\n",
        "# 正解（検証データの目的変数）と予測値との比較\n",
        "print(Y_valid[:5])\n",
        "print(Y_pred[:5])\n",
        "\n",
        "randomforest_model_mse = mean_squared_error(Y_valid, Y_pred) # MSE算出\n",
        "print('MSE(ランダムフォレスト):', randomforest_model_mse)"
      ]
    },
    {
      "cell_type": "code",
      "execution_count": null,
      "metadata": {},
      "outputs": [
        {
          "data": {
            "text/plain": [
              "<matplotlib.collections.PathCollection at 0x13a1bfad0>"
            ]
          },
          "execution_count": 48,
          "metadata": {},
          "output_type": "execute_result"
        },
        {
          "data": {
            "image/png": "[encoded data removed]",
            "text/plain": [
              "<Figure size 640x480 with 1 Axes>"
            ]
          },
          "metadata": {},
          "output_type": "display_data"
        }
      ],
      "source": [
        "# Y_valid　X軸:正解の値、Y軸:予測値で散布図を作成\n",
        "plt.scatter(Y_valid, Y_pred)"
      ]
    },
    {
      "cell_type": "markdown",
      "metadata": {
        "id": "VZfcs87vf9rE"
      },
      "source": [
        "## 6. テストデータによる汎化性能の確認\n",
        "\n",
        "3つの中でもっともMSEの値が良かったモデルについて、テストデータで汎化性能を確認しましょう。"
      ]
    },
    {
      "cell_type": "code",
      "execution_count": 21,
      "metadata": {},
      "outputs": [
        {
          "name": "stdout",
          "output_type": "stream",
          "text": [
            "MSE(線形回帰)　　　　　　: 1025944027.7910818\n",
            "MSE(回帰木)　　　　　　　: 1381288719.2139535\n",
            "MSE(ランダムフォレスト)　: 758213811.2845956\n"
          ]
        }
      ],
      "source": [
        "# 3つのモデルのMSEを、桁をあわせてまとめて表示する\n",
        "print('MSE(線形回帰)　　　　　　:', linear_model_mse)\n",
        "print('MSE(回帰木)　　　　　　　:', decisiontree_model_mse)\n",
        "print('MSE(ランダムフォレスト)　:', randomforest_model_mse)"
      ]
    },
    {
      "cell_type": "code",
      "execution_count": 36,
      "metadata": {
        "id": "m6KvmI0KgAk5"
      },
      "outputs": [
        {
          "name": "stdout",
          "output_type": "stream",
          "text": [
            "[200624 133000 110000 192000  88000]\n",
            "[190289.4   155365.24  114540.005 244259.94   88488.   ]\n",
            "MSE(ランダムフォレスト_テストデータ(Y_test)): 1416089058.994951\n"
          ]
        }
      ],
      "source": [
        "# テストデータを使って予測を行いMSEを算出\n",
        "# MSEの値が良かったモデル = ランダムフォレストを使って予測を行う\n",
        "Y_test_pred = randomforest_model.predict(X_test)\n",
        "\n",
        "# 正解（検証データの目的変数）と予測値との比較\n",
        "print(Y_test[:5])\n",
        "print(Y_test_pred[:5])\n",
        "\n",
        "# MSE(ランダムフォレスト_テストデータ(Y_test))の値が、 1416089058.994951 で、以下のいずれよりも悪い値になった。\n",
        "\"\"\"\n",
        "MSE(線形回帰)　　　　　　: 1025944027.7910818\n",
        "MSE(回帰木)　　　　　　　: 1381288719.2139535\n",
        "MSE(ランダムフォレスト)　: 758213811.2845956\n",
        "\"\"\"\n",
        "randomforest_model_test_mse = mean_squared_error(Y_test, Y_test_pred) # MSE算出\n",
        "print('MSE(ランダムフォレスト_テストデータ(Y_test)):', randomforest_model_test_mse) \n"
      ]
    },
    {
      "cell_type": "markdown",
      "metadata": {
        "id": "fxG6cyjPgJBa"
      },
      "source": [
        "## 7. グラフによる確認\n",
        "\n",
        "説明変数が多い場合、「説明変数で目的変数を正しく予測できているか」を可視化することは困難です。そこで「正解と予測値」とを比較することで、予測の精度を可視化してみましょう。"
      ]
    },
    {
      "cell_type": "markdown",
      "metadata": {
        "id": "1jRX4XcVgNVf"
      },
      "source": [
        "### 散布図による可視化\n",
        "\n",
        "X軸(横方向)に `テストデータの正解の値` 、Y軸(縦方向)に `予測値` を使って散布図を作成してみましょう。全体的に右肩上がりで、直線上にデータが並んでいれば、予測が行なえていると判断できます。"
      ]
    },
    {
      "cell_type": "code",
      "execution_count": 49,
      "metadata": {
        "id": "bQjrqnRtgMvW"
      },
      "outputs": [
        {
          "data": {
            "text/plain": [
              "<matplotlib.collections.PathCollection at 0x13a12cd70>"
            ]
          },
          "execution_count": 49,
          "metadata": {},
          "output_type": "execute_result"
        },
        {
          "data": {
            "image/png": "[encoded data removed]",
            "text/plain": [
              "<Figure size 640x480 with 1 Axes>"
            ]
          },
          "metadata": {},
          "output_type": "display_data"
        }
      ],
      "source": [
        "# Y_test　X軸:正解の値、Y軸:予測値で散布図を作成\n",
        "plt.scatter(Y_test, Y_test_pred)          "
      ]
    },
    {
      "cell_type": "markdown",
      "metadata": {
        "id": "jTex8uTgl-D-"
      },
      "source": [
        "### ヒストグラムによる可視化\n",
        "\n",
        "「誤差率＝正解の値と予測値との差の割合」をヒストグラムで確認してみましょう。誤差率は以下で計算できます。\n",
        "\n",
        "`（正解の値－予測値）/ 正解の値`\n",
        "\n",
        "併せて、誤差率の平均値、標準偏差も出力しましょう。平均値は `numpy` の `mean` 関数、標準偏差は `std` 関数で取得できます。\n",
        "\n",
        "なお、ヒストグラムを描く際は`matplotlib.pyplot`の`hist`関数が使えます。matplotlib.pyplotはpltという名前をつけているはずなので、ヒストグラム化したいデータを`plt.hist()`の引数に渡すことでヒストグラムを描画できます。"
      ]
    },
    {
      "cell_type": "code",
      "execution_count": 37,
      "metadata": {
        "id": "95JnIQ9LgjJA"
      },
      "outputs": [
        {
          "data": {
            "image/png": "[encoded data removed]",
            "text/plain": [
              "<Figure size 640x480 with 1 Axes>"
            ]
          },
          "metadata": {},
          "output_type": "display_data"
        },
        {
          "name": "stdout",
          "output_type": "stream",
          "text": [
            "最小値 52500\n",
            "最大値 745000\n",
            "平均値 181702.78538812784\n",
            "中央値 163700.0\n",
            "標準偏差 82395.3362816311\n"
          ]
        }
      ],
      "source": [
        "# 実際の成約価格と予測価格の誤差率をヒストグラムで表示\n",
        "# --- 日本語フォント対策（環境にある候補を優先的に使う） ---\n",
        "plt.rcParams['font.family'] = 'sans-serif'\n",
        "plt.rcParams['font.sans-serif'] = [\n",
        "    'IPAexGothic',        # Linux系でよく使う\n",
        "    'Noto Sans CJK JP',   # Google Noto\n",
        "    'Yu Gothic',          # Windows\n",
        "    'Hiragino Sans',      # macOS\n",
        "    'Meiryo', 'MS Gothic' # Windows\n",
        "]\n",
        "plt.rcParams['axes.unicode_minus'] = False  # マイナス記号の文字化け対策\n",
        "\n",
        "plt.figure()\n",
        "plt.hist((Y_test - Y_test_pred) / Y_test, bins=50)\n",
        "plt.xlabel(\"誤差率\")\n",
        "plt.ylabel(\"件数\")\n",
        "plt.grid()\n",
        "plt.show()\n",
        "\n",
        "\n",
        "# 最小値\n",
        "print(\"最小値\", np.min(Y_test))\n",
        "# 最大値\n",
        "print(\"最大値\", np.max(Y_test))\n",
        "\n",
        "# 平均値\n",
        "print(\"平均値\", np.mean(Y_test))\n",
        "# 中央値\n",
        "print(\"中央値\", np.median(Y_test))\n",
        "\n",
        "# 標準偏差\n",
        "print(\"標準偏差\",np.std(Y_test))"
      ]
    }
  ],
  "metadata": {
    "colab": {
      "provenance": []
    },
    "kernelspec": {
      "display_name": ".venv",
      "language": "python",
      "name": "python3"
    },
    "language_info": {
      "codemirror_mode": {
        "name": "ipython",
        "version": 3
      },
      "file_extension": ".py",
      "mimetype": "text/x-python",
      "name": "python",
      "nbconvert_exporter": "python",
      "pygments_lexer": "ipython3",
      "version": "3.12.10"
    }
  },
  "nbformat": 4,
  "nbformat_minor": 0
}
