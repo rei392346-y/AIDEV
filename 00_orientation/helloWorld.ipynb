{
 "cells": [
  {
   "cell_type": "code",
   "execution_count": 1,
   "id": "a73494e7",
   "metadata": {},
   "outputs": [
    {
     "name": "stdout",
     "output_type": "stream",
     "text": [
      "Hello! World!\n",
      "こんにちは！ 世界！\n"
     ]
    }
   ],
   "source": [
    "print(\"Hello! World!\")\n",
    "print(\"こんにちは！ 世界！\")"
   ]
  },
  {
   "cell_type": "markdown",
   "id": "28fbb619",
   "metadata": {},
   "source": [
    "# 見出し1\n",
    "## 見出し2\n",
    "### 見出し3\n",
    "\n",
    "- 項目1\n",
    "- 項目2\n",
    "  - サブ項目\n",
    "\n",
    "\n",
    "太字：**太字** または __太字__  \n",
    "斜体：*斜体* または _斜体_  \n",
    "太字かつ斜体：***太字かつ斜体***  "
   ]
  }
 ],
 "metadata": {
  "kernelspec": {
   "display_name": ".venv",
   "language": "python",
   "name": "python3"
  },
  "language_info": {
   "codemirror_mode": {
    "name": "ipython",
    "version": 3
   },
   "file_extension": ".py",
   "mimetype": "text/x-python",
   "name": "python",
   "nbconvert_exporter": "python",
   "pygments_lexer": "ipython3",
   "version": "3.12.10"
  }
 },
 "nbformat": 4,
 "nbformat_minor": 5
}
